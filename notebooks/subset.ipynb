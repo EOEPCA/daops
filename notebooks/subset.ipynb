{
 "cells": [
  {
   "cell_type": "code",
   "execution_count": null,
   "metadata": {},
   "outputs": [],
   "source": [
    "from daops.ops.subset import subset\n",
    "\n",
    "# remove previosuly created example file\n",
    "import os\n",
    "if os.path.exists(\"./output_001.nc\"):\n",
    "    os.remove(\"./output_001.nc\")"
   ]
  },
  {
   "cell_type": "markdown",
   "metadata": {},
   "source": [
    "## Subset\n",
    "\n",
    "Daops has a subsetting operation that calls ``clisops.ops.subset.subset`` from the ``clisops`` library. \n",
    "\n",
    "Before making the call to the subset operation, ``daops`` will look up a database of known fixes. If there are any fixes for the requested dataset then the data will be loaded and fixed using the ``xarray`` library and the subsetting operation is then carried out by ``clisops``."
   ]
  },
  {
   "cell_type": "markdown",
   "metadata": {},
   "source": [
    "### Results of subset and applying a fix\n",
    "\n",
    "The results of the subsetting operation in daops are returned as an ordered dictionary of the input dataset id and the output in the chosen format (xarray dataset, netcdf file paths, zarr file paths)\n",
    "\n",
    "The example below requires a fix so the elasticsearch index has been consulted.\n",
    "\n",
    "It also demostrates the results of the operation "
   ]
  },
  {
   "cell_type": "code",
   "execution_count": null,
   "metadata": {},
   "outputs": [],
   "source": [
    "# An example of subsetting a dataset that requires a fix - the elasticsearch index is consulted.\n",
    "\n",
    "ds = \"badc/cmip5/data/cmip5/output1/INM/inmcm4/rcp45/mon/ocean/Omon/r1i1p1/latest/zostoga/*.nc\"\n",
    "result = subset(\n",
    "        ds,\n",
    "        time=(\"1955-01-01T00:00:00\", \"2013-12-30T00:00:00\"),\n",
    "        output_dir=None,\n",
    "        output_type=\"xarray\",\n",
    "    )\n",
    "\n",
    "result._results"
   ]
  },
  {
   "cell_type": "markdown",
   "metadata": {},
   "source": [
    "### File paths of output\n",
    "\n",
    "If output as file paths, it is also possible to access just the output file paths from the results object.\n",
    "This is demonstrated below."
   ]
  },
  {
   "cell_type": "code",
   "execution_count": null,
   "metadata": {},
   "outputs": [],
   "source": [
    "# An example of subsetting a dataset that requires a fix - the elasticsearch index is consulted.\n",
    "\n",
    "ds = \"badc/cmip5/data/cmip5/output1/INM/inmcm4/rcp45/mon/ocean/Omon/r1i1p1/latest/zostoga/*.nc\"\n",
    "result = subset(\n",
    "        ds,\n",
    "        time=(\"1955-01-01T00:00:00\", \"2013-12-30T00:00:00\"),\n",
    "        output_dir=\".\",\n",
    "        output_type=\"netcdf\",\n",
    "        file_namer=\"simple\"\n",
    "    )\n",
    "\n",
    "print(\"ouptut file paths = \", result.file_paths)"
   ]
  },
  {
   "cell_type": "markdown",
   "metadata": {},
   "source": [
    "### Checks implemented by daops\n",
    "\n",
    "Daops will check that files exist in the requested time range"
   ]
  },
  {
   "cell_type": "code",
   "execution_count": null,
   "metadata": {},
   "outputs": [],
   "source": [
    "ds = \"/badc/cmip5/data/cmip5/output1/INM/inmcm4/rcp45/mon/ocean/Omon/r1i1p1/latest/zostoga/*.nc\"\n",
    "\n",
    "try:\n",
    "    result = subset(\n",
    "            ds,\n",
    "            time=(\"1955-01-01T00:00:00\", \"1990-12-30T00:00:00\"),\n",
    "            output_dir=None,\n",
    "            output_type=\"xarray\",\n",
    "        )\n",
    "\n",
    "except Exception as exc:\n",
    "    print(exc)"
   ]
  }
 ],
 "metadata": {
  "kernelspec": {
   "display_name": "Python 3",
   "language": "python",
   "name": "python3"
  },
  "language_info": {
   "codemirror_mode": {
    "name": "ipython",
    "version": 3
   },
   "file_extension": ".py",
   "mimetype": "text/x-python",
   "name": "python",
   "nbconvert_exporter": "python",
   "pygments_lexer": "ipython3",
   "version": "3.7.8"
  }
 },
 "nbformat": 4,
 "nbformat_minor": 4
}
